{
 "cells": [
  {
   "cell_type": "code",
   "execution_count": 64,
   "metadata": {},
   "outputs": [],
   "source": [
    "from elasticsearch import Elasticsearch"
   ]
  },
  {
   "cell_type": "code",
   "execution_count": 65,
   "metadata": {},
   "outputs": [],
   "source": [
    "# Connect to Elasticsearch\n",
    "es = Elasticsearch(\n",
    "    [\"http://localhost:9200\"],\n",
    "    verify_certs=False,  \n",
    ")"
   ]
  },
  {
   "cell_type": "code",
   "execution_count": 66,
   "metadata": {},
   "outputs": [
    {
     "name": "stderr",
     "output_type": "stream",
     "text": [
      "/tmp/ipykernel_4601/40105098.py:10: DeprecationWarning: The 'params' parameter is deprecated and will be removed in a future version. Instead use individual parameters.\n",
      "  es.indices.create(index=index_name, params=transport_options)\n",
      "/tmp/ipykernel_4601/40105098.py:10: DeprecationWarning: Passing transport options in the API method is deprecated. Use 'Elasticsearch.options()' instead.\n",
      "  es.indices.create(index=index_name, params=transport_options)\n"
     ]
    },
    {
     "data": {
      "text/plain": [
       "ObjectApiResponse({'acknowledged': True, 'shards_acknowledged': True, 'index': 'first_index'})"
      ]
     },
     "execution_count": 66,
     "metadata": {},
     "output_type": "execute_result"
    }
   ],
   "source": [
    "# Index name and document\n",
    "index_name = \"first_index\"\n",
    "\n",
    "# Specify transport options using Elasticsearch.options()\n",
    "transport_options = {\n",
    "    'ignore': 400\n",
    "}\n",
    "\n",
    "# Create the index with transport options\n",
    "es.indices.create(index=index_name, params=transport_options)"
   ]
  },
  {
   "cell_type": "code",
   "execution_count": 67,
   "metadata": {},
   "outputs": [
    {
     "data": {
      "text/plain": [
       "HeadApiResponse(True)"
      ]
     },
     "execution_count": 67,
     "metadata": {},
     "output_type": "execute_result"
    }
   ],
   "source": [
    "\n",
    "es.indices.exists(index=index_name)"
   ]
  },
  {
   "cell_type": "code",
   "execution_count": 68,
   "metadata": {},
   "outputs": [
    {
     "data": {
      "text/plain": [
       "HeadApiResponse(True)"
      ]
     },
     "execution_count": 68,
     "metadata": {},
     "output_type": "execute_result"
    }
   ],
   "source": [
    "\n",
    "es.indices.exists(index=index_name)"
   ]
  },
  {
   "cell_type": "code",
   "execution_count": 69,
   "metadata": {},
   "outputs": [
    {
     "data": {
      "text/plain": [
       "HeadApiResponse(True)"
      ]
     },
     "execution_count": 69,
     "metadata": {},
     "output_type": "execute_result"
    }
   ],
   "source": [
    "\n",
    "es.indices.exists(index=index_name)"
   ]
  },
  {
   "cell_type": "code",
   "execution_count": 70,
   "metadata": {},
   "outputs": [
    {
     "data": {
      "text/plain": [
       "HeadApiResponse(True)"
      ]
     },
     "execution_count": 70,
     "metadata": {},
     "output_type": "execute_result"
    }
   ],
   "source": [
    "\n",
    "es.indices.exists(index=index_name)"
   ]
  },
  {
   "cell_type": "code",
   "execution_count": 71,
   "metadata": {},
   "outputs": [
    {
     "data": {
      "text/plain": [
       "ObjectApiResponse({'acknowledged': True})"
      ]
     },
     "execution_count": 71,
     "metadata": {},
     "output_type": "execute_result"
    }
   ],
   "source": [
    "es.indices.delete(index=index_name)"
   ]
  },
  {
   "cell_type": "code",
   "execution_count": 72,
   "metadata": {},
   "outputs": [
    {
     "data": {
      "text/plain": [
       "HeadApiResponse(False)"
      ]
     },
     "execution_count": 72,
     "metadata": {},
     "output_type": "execute_result"
    }
   ],
   "source": [
    "\n",
    "es.indices.exists(index=index_name)"
   ]
  },
  {
   "cell_type": "code",
   "execution_count": 73,
   "metadata": {},
   "outputs": [
    {
     "data": {
      "text/plain": [
       "ObjectApiResponse({'_index': 'cities', '_id': '1', '_version': 5, 'result': 'updated', '_shards': {'total': 2, 'successful': 1, 'failed': 0}, '_seq_no': 6, '_primary_term': 2})"
      ]
     },
     "execution_count": 73,
     "metadata": {},
     "output_type": "execute_result"
    }
   ],
   "source": [
    "# Insert and Get Query\n",
    "doc1 = {\"city\":\"Srinagar\", \"Country\": \"India\"}\n",
    "doc2 = {\"city\":\"Moscow\", \"Country\": \"Russia\"}\n",
    "es.index(index=\"cities\", id=1, body=doc1)"
   ]
  },
  {
   "cell_type": "code",
   "execution_count": 74,
   "metadata": {},
   "outputs": [
    {
     "data": {
      "text/plain": [
       "ObjectApiResponse({'_index': 'cities', '_id': '2', '_version': 3, 'result': 'updated', '_shards': {'total': 2, 'successful': 1, 'failed': 0}, '_seq_no': 7, '_primary_term': 2})"
      ]
     },
     "execution_count": 74,
     "metadata": {},
     "output_type": "execute_result"
    }
   ],
   "source": [
    "es.index(index=\"cities\", id=2, body=doc2)\n"
   ]
  },
  {
   "cell_type": "code",
   "execution_count": 75,
   "metadata": {},
   "outputs": [],
   "source": [
    "res = es.get(index=\"cities\", id=1)"
   ]
  },
  {
   "cell_type": "code",
   "execution_count": 76,
   "metadata": {},
   "outputs": [
    {
     "data": {
      "text/plain": [
       "ObjectApiResponse({'_index': 'cities', '_id': '1', '_version': 5, '_seq_no': 6, '_primary_term': 2, 'found': True, '_source': {'city': 'Srinagar', 'Country': 'India'}})"
      ]
     },
     "execution_count": 76,
     "metadata": {},
     "output_type": "execute_result"
    }
   ],
   "source": [
    "res"
   ]
  },
  {
   "cell_type": "code",
   "execution_count": 77,
   "metadata": {},
   "outputs": [
    {
     "data": {
      "text/plain": [
       "{'city': 'Srinagar', 'Country': 'India'}"
      ]
     },
     "execution_count": 77,
     "metadata": {},
     "output_type": "execute_result"
    }
   ],
   "source": [
    "res[\"_source\"]"
   ]
  },
  {
   "cell_type": "code",
   "execution_count": 78,
   "metadata": {},
   "outputs": [],
   "source": [
    "# Different serach query for matching docs\n",
    "doc3 = {\"sentence\":\"Today is a SUNNY day\"}\n",
    "doc4 = {\"sentence\":\"Today is a BRIGHT-SUNNY day\"}"
   ]
  },
  {
   "cell_type": "code",
   "execution_count": 79,
   "metadata": {},
   "outputs": [
    {
     "data": {
      "text/plain": [
       "ObjectApiResponse({'_index': 'english', '_id': '1', '_version': 3, 'result': 'updated', '_shards': {'total': 2, 'successful': 1, 'failed': 0}, '_seq_no': 6, '_primary_term': 2})"
      ]
     },
     "execution_count": 79,
     "metadata": {},
     "output_type": "execute_result"
    }
   ],
   "source": [
    "es.index(index=\"english\", id=1, body=doc3)"
   ]
  },
  {
   "cell_type": "code",
   "execution_count": 80,
   "metadata": {},
   "outputs": [
    {
     "data": {
      "text/plain": [
       "ObjectApiResponse({'_index': 'english', '_id': '2', '_version': 3, 'result': 'updated', '_shards': {'total': 2, 'successful': 1, 'failed': 0}, '_seq_no': 7, '_primary_term': 2})"
      ]
     },
     "execution_count": 80,
     "metadata": {},
     "output_type": "execute_result"
    }
   ],
   "source": [
    "es.index(index=\"english\", id=2, body=doc4)\n"
   ]
  },
  {
   "cell_type": "code",
   "execution_count": 81,
   "metadata": {},
   "outputs": [
    {
     "data": {
      "text/plain": [
       "ObjectApiResponse({'took': 8, 'timed_out': False, '_shards': {'total': 1, 'successful': 1, 'skipped': 0, 'failed': 0}, 'hits': {'total': {'value': 2, 'relation': 'eq'}, 'max_score': None, 'hits': []}})"
      ]
     },
     "execution_count": 81,
     "metadata": {},
     "output_type": "execute_result"
    }
   ],
   "source": [
    "res1 = es.search(index=\"english\", body={\n",
    "    \"from\":0,\n",
    "    \"size\":0,\n",
    "    \"query\":{\n",
    "        \"match\":{\n",
    "            \"sentence\":\"SUNNY\"\n",
    "        }\n",
    "    }\n",
    "})\n",
    "\n",
    "res1"
   ]
  },
  {
   "cell_type": "markdown",
   "metadata": {},
   "source": [
    "es.search: This method is used to perform a search operation on Elasticsearch. It takes parameters such as the index name, the search query body, and other optional parameters.\n",
    "\n",
    "index=\"english\": Specifies the index on which the search operation should be performed. In this case, it is the \"english\" index.\n",
    "\n",
    "body: This is the query body that defines the search request. It's a JSON object that specifies the search criteria.\n",
    "\n",
    "\"from\": 0: Specifies the starting index from where the search results should be retrieved. In this case, it is set to 0, indicating that the results should start from the first match.\n",
    "\n",
    "\"size\": 0: Specifies the number of hits (search results) to be returned. Setting it to 0 indicates that only the aggregations and metadata should be returned, but no actual search hits.\n",
    "\n",
    "\"query\": This is the key indicating the start of the query definition.\n",
    "\n",
    "\"match\": This is a type of query that performs a full-text search on the specified field. In this case, it is searching for documents where the \"sentence\" field matches the term \"SUNNY.\""
   ]
  },
  {
   "cell_type": "code",
   "execution_count": 82,
   "metadata": {},
   "outputs": [
    {
     "data": {
      "text/plain": [
       "ObjectApiResponse({'took': 7, 'timed_out': False, '_shards': {'total': 1, 'successful': 1, 'skipped': 0, 'failed': 0}, 'hits': {'total': {'value': 2, 'relation': 'eq'}, 'max_score': None, 'hits': []}})"
      ]
     },
     "execution_count": 82,
     "metadata": {},
     "output_type": "execute_result"
    }
   ],
   "source": [
    "\n",
    "\"\"\"   \n",
    "    res1 using a \"match\" query looks for documents containing individual tokens from the search term.\n",
    "    res2 using a \"match_phrase\" query looks for documents where the entire search term appears as a phrase in the specified field.\n",
    "\"\"\"\n",
    "    \n",
    "res2 = es.search(index=\"english\", body={\n",
    "    \"from\":0,\n",
    "    \"size\":0,\n",
    "    \"query\":{\n",
    "        \"match_phrase\":{\n",
    "            \"sentence\":\"SUNNY\"\n",
    "        }\n",
    "    }\n",
    "})\n",
    "\n",
    "res2\n"
   ]
  },
  {
   "cell_type": "code",
   "execution_count": 83,
   "metadata": {},
   "outputs": [
    {
     "data": {
      "text/plain": [
       "ObjectApiResponse({'took': 6, 'timed_out': False, '_shards': {'total': 1, 'successful': 1, 'skipped': 0, 'failed': 0}, 'hits': {'total': {'value': 1, 'relation': 'eq'}, 'max_score': None, 'hits': []}})"
      ]
     },
     "execution_count": 83,
     "metadata": {},
     "output_type": "execute_result"
    }
   ],
   "source": [
    "res3 = es.search(index=\"english\", body={\n",
    "    \"from\":0,\n",
    "    \"size\":0,\n",
    "    \"query\":{\n",
    "        \"match_phrase\":{\n",
    "            \"sentence\":\"bright-SUNNY\"\n",
    "        }\n",
    "    }\n",
    "})\n",
    "\n",
    "res3"
   ]
  },
  {
   "cell_type": "code",
   "execution_count": 84,
   "metadata": {},
   "outputs": [
    {
     "data": {
      "text/plain": [
       "ObjectApiResponse({'took': 6, 'timed_out': False, '_shards': {'total': 1, 'successful': 1, 'skipped': 0, 'failed': 0}, 'hits': {'total': {'value': 0, 'relation': 'eq'}, 'max_score': None, 'hits': []}})"
      ]
     },
     "execution_count": 84,
     "metadata": {},
     "output_type": "execute_result"
    }
   ],
   "source": [
    "\"\"\"\n",
    "    The \"term\" query is used for exact matching of terms in Elasticsearch.\n",
    "    It looks for documents where the exact term specified in the query matches the term in the specified field.\n",
    "    Unlike the \"match\" and \"match_phrase\" queries, \n",
    "    the \"term\" query doesn't analyze the search term; it looks for the exact term in the inverted index.\n",
    "\"\"\"\n",
    "res4 = es.search(index=\"english\", body={\n",
    "    \"from\":0,\n",
    "    \"size\":0,\n",
    "    \"query\":{\n",
    "        \"term\":{\n",
    "            \"sentence\":\"bright-SUNNY\"\n",
    "        }\n",
    "    }\n",
    "})\n",
    "\n",
    "res4"
   ]
  },
  {
   "cell_type": "code",
   "execution_count": 85,
   "metadata": {},
   "outputs": [
    {
     "data": {
      "text/plain": [
       "ObjectApiResponse({'took': 10, 'timed_out': False, '_shards': {'total': 1, 'successful': 1, 'skipped': 0, 'failed': 0}, 'hits': {'total': {'value': 1, 'relation': 'eq'}, 'max_score': None, 'hits': []}})"
      ]
     },
     "execution_count": 85,
     "metadata": {},
     "output_type": "execute_result"
    }
   ],
   "source": [
    "# Combining queries ------> must, must_not, should\n",
    "\n",
    "\"\"\"\n",
    "\"bool\" Query:\n",
    "\n",
    "    The \"bool\" query is a compound query that allows you to combine multiple queries using boolean logic.\n",
    "    It supports various clauses, including:\n",
    "        \"must\":\n",
    "            Documents must match this query. It's similar to the logical AND operation.\n",
    "        \"must_not\":\n",
    "            Documents must not match this query. It's similar to the logical NOT operation.\n",
    "        \"should\":\n",
    "            This represents optional matching. \n",
    "            Documents that match this query will contribute to the final score but are not required to match.\n",
    "\"\"\"\n",
    "res5 = es.search(index=\"english\", body={\n",
    "    \"from\":0,\n",
    "    \"size\":0,\n",
    "    \"query\":{\n",
    "        \"bool\":{\n",
    "            \"must_not\":{\n",
    "                \"match\":{\n",
    "                    \"sentence\":\"bright\"\n",
    "                }\n",
    "            }, \n",
    "            \"should\":{\n",
    "                \"match\":{\n",
    "                    \"sentence\":\"sunny\"\n",
    "                }\n",
    "            }\n",
    "        }\n",
    "    }\n",
    "})\n",
    "\n",
    "res5\n"
   ]
  },
  {
   "cell_type": "code",
   "execution_count": 86,
   "metadata": {},
   "outputs": [
    {
     "data": {
      "text/plain": [
       "ObjectApiResponse({'took': 16, 'timed_out': False, '_shards': {'total': 1, 'successful': 1, 'skipped': 0, 'failed': 0}, 'hits': {'total': {'value': 1, 'relation': 'eq'}, 'max_score': 0.4823361, 'hits': [{'_index': 'english', '_id': '1', '_score': 0.4823361, '_source': {'sentence': 'Today is a SUNNY day'}}]}})"
      ]
     },
     "execution_count": 86,
     "metadata": {},
     "output_type": "execute_result"
    }
   ],
   "source": [
    "# Combining queries ------> must, must_not, should\n",
    "res6 = es.search(index=\"english\", body={\n",
    "    \"from\":0,\n",
    "    \"size\":1,\n",
    "    \"query\":{\n",
    "        \"bool\":{\n",
    "            \"must_not\":{\n",
    "                \"match\":{\n",
    "                    \"sentence\":\"bright\"\n",
    "                }\n",
    "            }, \n",
    "            \"should\":{\n",
    "                \"match\":{\n",
    "                    \"sentence\":\"sunny\"\n",
    "                }\n",
    "            }\n",
    "        }\n",
    "    }\n",
    "})\n",
    "\n",
    "res6\n"
   ]
  },
  {
   "cell_type": "code",
   "execution_count": 87,
   "metadata": {},
   "outputs": [
    {
     "data": {
      "text/plain": [
       "ObjectApiResponse({'_index': 'english', '_id': '3', '_version': 3, 'result': 'updated', '_shards': {'total': 2, 'successful': 1, 'failed': 0}, '_seq_no': 8, '_primary_term': 2})"
      ]
     },
     "execution_count": 87,
     "metadata": {},
     "output_type": "execute_result"
    }
   ],
   "source": [
    "# Regular Expressions in ES\n",
    "\n",
    "# Add another document\n",
    "doc5 = {\"sentence\":\"Today is a rainy day\"}\n",
    "es.index(index=\"english\", id=3, body=doc5)\n",
    "\n"
   ]
  },
  {
   "cell_type": "code",
   "execution_count": 88,
   "metadata": {},
   "outputs": [
    {
     "data": {
      "text/plain": [
       "ObjectApiResponse({'_index': 'english', '_id': '3', '_version': 3, '_seq_no': 8, '_primary_term': 2, 'found': True, '_source': {'sentence': 'Today is a rainy day'}})"
      ]
     },
     "execution_count": 88,
     "metadata": {},
     "output_type": "execute_result"
    }
   ],
   "source": [
    "es.get(index=\"english\", id=1)\n",
    "es.get(index=\"english\", id=2)\n",
    "es.get(index=\"english\", id=3)"
   ]
  },
  {
   "cell_type": "code",
   "execution_count": 89,
   "metadata": {},
   "outputs": [
    {
     "data": {
      "text/plain": [
       "ObjectApiResponse({'took': 14, 'timed_out': False, '_shards': {'total': 1, 'successful': 1, 'skipped': 0, 'failed': 0}, 'hits': {'total': {'value': 3, 'relation': 'eq'}, 'max_score': 1.0, 'hits': [{'_index': 'english', '_id': '2', '_score': 1.0, '_source': {'sentence': 'Today is a BRIGHT-SUNNY day'}}, {'_index': 'english', '_id': '3', '_score': 1.0, '_source': {'sentence': 'Today is a rainy day'}}, {'_index': 'english', '_id': '1', '_score': 1.0, '_source': {'sentence': 'Today is a SUNNY day'}}]}})"
      ]
     },
     "execution_count": 89,
     "metadata": {},
     "output_type": "execute_result"
    }
   ],
   "source": [
    "\"\"\"\n",
    "    \"regexp\" Query:\n",
    "\n",
    "    The \"regexp\" query allows you to search for documents based on a regular expression pattern.\n",
    "    In this case, the regular expression pattern is \".*\" which essentially matches any string (zero or more characters). \n",
    "    This means it will match any document where the \"sentence\" field contains at least one character.\n",
    "\"\"\"\n",
    "\n",
    "res7 = es.search(index=\"english\", body={\n",
    "    \"from\":0,\n",
    "    \"size\":3,\n",
    "    \"query\":{\n",
    "        \"regexp\":{\n",
    "            \"sentence\":\".*\"\n",
    "        }\n",
    "    }\n",
    "})\n",
    "\n",
    "res7"
   ]
  },
  {
   "cell_type": "code",
   "execution_count": 90,
   "metadata": {},
   "outputs": [],
   "source": [
    "# Mapping in ElasticSearch \n",
    "\"\"\"\n",
    "In Elasticsearch, mapping is the process of defining how documents and their fields should be stored and indexed.\n",
    "It defines the data type of each field and other properties that control how the data is indexed and queried.\n",
    "Mapping is crucial for Elasticsearch to understand the structure of your data and to perform efficient searches.\n",
    "\"\"\" \n",
    "from datetime import datetime\n",
    "\n",
    "doc6 = {\"city\":\"Jammu\",\"Country\":\"India\", \"datetime\":datetime.now()}\n",
    "doc7 = {\"city\":\"Srinagar\",\"Country\":\"India\", \"datetime\":datetime.now()}\n",
    "doc8 = {\"city\":\"New Delhi\",\"Country\":\"India\", \"datetime\":datetime.now()}\n",
    "\n"
   ]
  },
  {
   "cell_type": "code",
   "execution_count": 91,
   "metadata": {},
   "outputs": [
    {
     "data": {
      "text/plain": [
       "ObjectApiResponse({'_index': 'travel', '_id': '1', '_version': 1, 'result': 'created', '_shards': {'total': 2, 'successful': 1, 'failed': 0}, '_seq_no': 0, '_primary_term': 1})"
      ]
     },
     "execution_count": 91,
     "metadata": {},
     "output_type": "execute_result"
    }
   ],
   "source": [
    "es.index(index=\"travel\",id=1, body=doc6)"
   ]
  },
  {
   "cell_type": "code",
   "execution_count": 92,
   "metadata": {},
   "outputs": [
    {
     "data": {
      "text/plain": [
       "ObjectApiResponse({'_index': 'travel', '_id': '2', '_version': 1, 'result': 'created', '_shards': {'total': 2, 'successful': 1, 'failed': 0}, '_seq_no': 1, '_primary_term': 1})"
      ]
     },
     "execution_count": 92,
     "metadata": {},
     "output_type": "execute_result"
    }
   ],
   "source": [
    "es.index(index=\"travel\",id=2, body=doc7)"
   ]
  },
  {
   "cell_type": "code",
   "execution_count": 93,
   "metadata": {},
   "outputs": [
    {
     "data": {
      "text/plain": [
       "ObjectApiResponse({'_index': 'travel', '_id': '3', '_version': 1, 'result': 'created', '_shards': {'total': 2, 'successful': 1, 'failed': 0}, '_seq_no': 2, '_primary_term': 1})"
      ]
     },
     "execution_count": 93,
     "metadata": {},
     "output_type": "execute_result"
    }
   ],
   "source": [
    "es.index(index=\"travel\",id=3, body=doc8)\n"
   ]
  },
  {
   "cell_type": "code",
   "execution_count": 94,
   "metadata": {},
   "outputs": [
    {
     "data": {
      "text/plain": [
       "ObjectApiResponse({'travel': {'mappings': {'properties': {'Country': {'type': 'text', 'fields': {'keyword': {'type': 'keyword', 'ignore_above': 256}}}, 'city': {'type': 'text', 'fields': {'keyword': {'type': 'keyword', 'ignore_above': 256}}}, 'datetime': {'type': 'date'}}}}})"
      ]
     },
     "execution_count": 94,
     "metadata": {},
     "output_type": "execute_result"
    }
   ],
   "source": [
    "es.indices.get_mapping(index=\"travel\")"
   ]
  },
  {
   "cell_type": "code",
   "execution_count": 95,
   "metadata": {},
   "outputs": [
    {
     "data": {
      "text/plain": [
       "ObjectApiResponse({'acknowledged': True})"
      ]
     },
     "execution_count": 95,
     "metadata": {},
     "output_type": "execute_result"
    }
   ],
   "source": [
    "es.indices.delete(index=\"travel\")"
   ]
  },
  {
   "cell_type": "code",
   "execution_count": 96,
   "metadata": {},
   "outputs": [
    {
     "data": {
      "text/plain": [
       "ObjectApiResponse({'acknowledged': True, 'shards_acknowledged': True, 'index': 'travel'})"
      ]
     },
     "execution_count": 96,
     "metadata": {},
     "output_type": "execute_result"
    }
   ],
   "source": [
    "es.indices.create(index=\"travel\")"
   ]
  },
  {
   "cell_type": "code",
   "execution_count": 97,
   "metadata": {},
   "outputs": [
    {
     "data": {
      "text/plain": [
       "\"\\n    In Elasticsearch, the Date Histogram Aggregation is a powerful feature \\n    that allows you to aggregate data based on date intervals.\\n    It's particularly useful when you want to analyze data over time,\\n    such as viewing the number of documents created or events occurring within specific time intervals.\\n\""
      ]
     },
     "execution_count": 97,
     "metadata": {},
     "output_type": "execute_result"
    }
   ],
   "source": [
    "# Date Histogram Aggregation in Elasticsearch\n",
    "\"\"\"\n",
    "    In Elasticsearch, the Date Histogram Aggregation is a powerful feature \n",
    "    that allows you to aggregate data based on date intervals.\n",
    "    It's particularly useful when you want to analyze data over time,\n",
    "    such as viewing the number of documents created or events occurring within specific time intervals.\n",
    "\"\"\"\n",
    "# es.search(index=\"travel\", body={\n",
    "#     \"from\": 0,\n",
    "#     \"size\": 0,\n",
    "#     \"query\": {\n",
    "#         \"match_all\": {}\n",
    "#     ,\n",
    "#     \"aggs\": {\n",
    "#         \"date_histogram\": {\n",
    "#             \"field\": \"datetime\",\n",
    "#             \"interval\": \"year\"}\n",
    "#         }\n",
    "#     }\n",
    "# })\n",
    "\n"
   ]
  },
  {
   "cell_type": "code",
   "execution_count": 99,
   "metadata": {},
   "outputs": [],
   "source": [
    "# Bulk Insert and Scan\n",
    "\"\"\"Bulk operations in Elasticsearch are efficient ways to index multiple documents in a single request\n",
    "    or to perform multiple actions in a single API call.\n",
    "    These operations are often used for bulk indexing or updating of documents.\n",
    "    \n",
    "    If you want to perform a bulk scan or retrieve multiple documents in a single request, you can use the mget API. \n",
    "\"\"\"\n",
    "\n",
    "actions = [\n",
    "    {\n",
    "    \"_index\": \"Chapter\",\n",
    "    \"_type\":\"doc\",\n",
    "    \"_id\":j,\n",
    "    \"_source\":{\n",
    "        \"any\":\"data\"+str(j),\"timestamp\":datetime.now()\n",
    "    }\n",
    "    }\n",
    "    for j in range(0,100)\n",
    "    ]"
   ]
  },
  {
   "cell_type": "code",
   "execution_count": null,
   "metadata": {},
   "outputs": [],
   "source": []
  }
 ],
 "metadata": {
  "kernelspec": {
   "display_name": "Python 3",
   "language": "python",
   "name": "python3"
  },
  "language_info": {
   "codemirror_mode": {
    "name": "ipython",
    "version": 3
   },
   "file_extension": ".py",
   "mimetype": "text/x-python",
   "name": "python",
   "nbconvert_exporter": "python",
   "pygments_lexer": "ipython3",
   "version": "3.10.12"
  }
 },
 "nbformat": 4,
 "nbformat_minor": 2
}
